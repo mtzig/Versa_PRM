{
 "cells": [
  {
   "cell_type": "code",
   "execution_count": 1,
   "metadata": {},
   "outputs": [
    {
     "name": "stderr",
     "output_type": "stream",
     "text": [
      "/opt/anaconda3/envs/prm_train/lib/python3.12/site-packages/tqdm/auto.py:21: TqdmWarning: IProgress not found. Please update jupyter and ipywidgets. See https://ipywidgets.readthedocs.io/en/stable/user_install.html\n",
      "  from .autonotebook import tqdm as notebook_tqdm\n"
     ]
    }
   ],
   "source": [
    "import json\n",
    "import re\n",
    "from process_bedrock_out import get_data"
   ]
  },
  {
   "cell_type": "code",
   "execution_count": 2,
   "metadata": {},
   "outputs": [],
   "source": [
    "def get_id_to_idx(data):\n",
    "    id_to_idx = {}\n",
    "\n",
    "    for q_idx, d in enumerate(data):\n",
    "        q_id = d['id']\n",
    "        for cot_idx, cot in enumerate(d['chain_of_thoughts']):\n",
    "            cot_id = cot['cot_id']\n",
    "\n",
    "            id_to_idx[f'{q_id}+{cot_id}'] = (q_idx, cot_idx)\n",
    "\n",
    "    return id_to_idx\n",
    "\n",
    "\n",
    "def parse_label(model_out):\n",
    "\n",
    "    pattern = r\"boxed\\{(-?\\d+)\\}\"\n",
    "    match = re.search(pattern, model_out)\n",
    "    if match:\n",
    "        # Extract and return the number as an integer\n",
    "        return int(match.group(1))\n",
    "    return None"
   ]
  },
  {
   "cell_type": "code",
   "execution_count": 3,
   "metadata": {},
   "outputs": [],
   "source": [
    "\n",
    "\n",
    "ds_path = f'./cot_data/mmlu_500_16/cot.json'\n",
    "bedrock_dir = f'./bedrock_outputs/mmlu-500-autolabel'\n",
    "\n",
    "\n"
   ]
  },
  {
   "cell_type": "code",
   "execution_count": 4,
   "metadata": {},
   "outputs": [],
   "source": [
    "with open(ds_path, 'r') as f:\n",
    "    cot_data = json.load(f)\n",
    "\n",
    "\n",
    "bedrock_autolabel_data = get_data(bedrock_dir)\n",
    "\n",
    "id_to_idx = get_id_to_idx(cot_data)\n",
    "\n",
    "# failed = 0\n",
    "\n",
    "stats = {'failed':0,'incorrect':0,'correct':0}\n",
    "\n",
    "for d in bedrock_autolabel_data:\n",
    "\n",
    "    id = d['recordId']\n",
    "    q_id, cot_id = id_to_idx[id]\n",
    "\n",
    "    cot_len = len(cot_data[q_id]['chain_of_thoughts'][cot_id]['steps'])\n",
    "\n",
    "    if 'modelOutput' not in d: # should add labels = None here too\n",
    "        stats['failed'] += 1\n",
    "        continue\n",
    "\n",
    "    label = parse_label(d['modelOutput']['generation'][-10:])\n",
    "\n",
    "\n",
    "    if label == None:\n",
    "        labels = None\n",
    "        stats['failed'] += 1\n",
    "\n",
    "    elif label == -1:\n",
    "        labels = [1] * cot_len\n",
    "\n",
    "        stats['correct'] += 1\n",
    "    elif label >= 0 and label < cot_len:\n",
    "        labels = [1] * label + [-1] * (cot_len - label)\n",
    "\n",
    "        stats['incorrect'] += 1\n",
    "\n",
    "    else: # bad label\n",
    "        labels = None\n",
    "        stats['failed'] += 1\n",
    "\n",
    "    cot_data[q_id]['chain_of_thoughts'][cot_id]['eval'] = d['modelOutput']['generation']\n",
    "\n",
    "    cot_data[q_id]['chain_of_thoughts'][cot_id]['labels'] = labels\n",
    "\n",
    "\n",
    "\n",
    "\n",
    "# processing to add aug field to cot\n",
    "for d in cot_data:\n",
    "    for cot in d['chain_of_thoughts']:\n",
    "        cot['augs'] = []\n",
    "\n",
    "\n",
    "with open(f'cot_data/mmlu_500_16/mmlu_labeledcot_witheval.json', 'w') as f:\n",
    "\n",
    "\n",
    "    json.dump(cot_data, f, indent=2)\n",
    "\n"
   ]
  },
  {
   "cell_type": "code",
   "execution_count": null,
   "metadata": {},
   "outputs": [],
   "source": []
  }
 ],
 "metadata": {
  "kernelspec": {
   "display_name": "prm_train",
   "language": "python",
   "name": "python3"
  },
  "language_info": {
   "codemirror_mode": {
    "name": "ipython",
    "version": 3
   },
   "file_extension": ".py",
   "mimetype": "text/x-python",
   "name": "python",
   "nbconvert_exporter": "python",
   "pygments_lexer": "ipython3",
   "version": "3.12.7"
  }
 },
 "nbformat": 4,
 "nbformat_minor": 2
}
